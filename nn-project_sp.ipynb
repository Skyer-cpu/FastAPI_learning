{
 "cells": [
  {
   "cell_type": "code",
   "execution_count": null,
   "id": "a275483b",
   "metadata": {
    "vscode": {
     "languageId": "plaintext"
    }
   },
   "outputs": [],
   "source": [
    "### Импорт библиотек и настройка"
   ]
  },
  {
   "cell_type": "code",
   "execution_count": 41,
   "id": "ed9a9208",
   "metadata": {},
   "outputs": [],
   "source": [
    "import torch\n",
    "import torch.nn as nn\n",
    "import torch.optim as optim\n",
    "from torch.optim import lr_scheduler\n",
    "import torchvision\n",
    "from torchvision import datasets, models, transforms\n",
    "import os\n",
    "import time\n",
    "import copy\n",
    "from sklearn.model_selection import train_test_split\n",
    "from torch.utils.data import Subset\n",
    "from PIL import Image\n",
    "from sklearn.metrics import confusion_matrix, f1_score\n",
    "import numpy as np\n",
    "import pandas as pd\n",
    "import seaborn as sns\n",
    "import matplotlib.pyplot as plt"
   ]
  },
  {
   "cell_type": "markdown",
   "id": "feba9370",
   "metadata": {},
   "source": [
    "### Настройки для быстрого обучения"
   ]
  },
  {
   "cell_type": "code",
   "execution_count": null,
   "id": "77433021",
   "metadata": {},
   "outputs": [],
   "source": [
    "data_dir = '/home/sky/nn-project/images/archive_sp/CUB_200_2011_sp/images'\n",
    "input_size = 224\n",
    "batch_size = 32  # batch size\n",
    "num_workers = 4  # Количество процессов для загрузки данных\n",
    "num_epochs = 12  #количество эпох"
   ]
  },
  {
   "cell_type": "code",
   "execution_count": 24,
   "id": "5a2401f8",
   "metadata": {},
   "outputs": [],
   "source": [
    "device = torch.device(\"cpu\")"
   ]
  },
  {
   "cell_type": "markdown",
   "id": "45cfc71d",
   "metadata": {},
   "source": [
    "### Трансформации"
   ]
  },
  {
   "cell_type": "code",
   "execution_count": 25,
   "id": "7b858403",
   "metadata": {},
   "outputs": [],
   "source": [
    "data_transforms = {\n",
    "    'train': transforms.Compose([\n",
    "        transforms.Resize(256),\n",
    "        transforms.RandomCrop(input_size),\n",
    "        transforms.RandomHorizontalFlip(),\n",
    "        transforms.ToTensor(),\n",
    "        transforms.Normalize([0.485, 0.456, 0.406], [0.229, 0.224, 0.225])\n",
    "    ]),\n",
    "    'val': transforms.Compose([\n",
    "        transforms.Resize(256),\n",
    "        transforms.CenterCrop(input_size),\n",
    "        transforms.ToTensor(),\n",
    "        transforms.Normalize([0.485, 0.456, 0.406], [0.229, 0.224, 0.225])\n",
    "    ]),\n",
    "}"
   ]
  },
  {
   "cell_type": "markdown",
   "id": "89f5b283",
   "metadata": {},
   "source": [
    "### Загрузка полного датасета"
   ]
  },
  {
   "cell_type": "code",
   "execution_count": 27,
   "id": "f02033ec",
   "metadata": {},
   "outputs": [],
   "source": [
    "full_dataset = datasets.ImageFolder(data_dir)\n",
    "\n",
    "# Разделение на train/val с сохранением стратификации\n",
    "train_idx, val_idx = train_test_split(\n",
    "    list(range(len(full_dataset))), \n",
    "    test_size=0.2, \n",
    "    random_state=42,\n",
    "    stratify=full_dataset.targets\n",
    ")\n",
    "\n",
    "train_dataset = Subset(full_dataset, train_idx)\n",
    "val_dataset = Subset(full_dataset, val_idx)\n",
    "\n",
    "# Применяем трансформации\n",
    "train_dataset.dataset.transform = data_transforms['train']\n",
    "val_dataset.dataset.transform = data_transforms['val']"
   ]
  },
  {
   "cell_type": "code",
   "execution_count": 45,
   "id": "85185509",
   "metadata": {},
   "outputs": [
    {
     "data": {
      "text/plain": [
       "['001.Black_footed_Albatross',\n",
       " '002.Laysan_Albatross',\n",
       " '003.Sooty_Albatross',\n",
       " '004.Groove_billed_Ani',\n",
       " '005.Crested_Auklet',\n",
       " '006.Least_Auklet',\n",
       " '007.Parakeet_Auklet',\n",
       " '008.Rhinoceros_Auklet',\n",
       " '009.Brewer_Blackbird',\n",
       " '010.Red_winged_Blackbird',\n",
       " '011.Rusty_Blackbird',\n",
       " '012.Yellow_headed_Blackbird',\n",
       " '013.Bobolink',\n",
       " '014.Indigo_Bunting',\n",
       " '015.Lazuli_Bunting',\n",
       " '016.Painted_Bunting',\n",
       " '017.Cardinal',\n",
       " '018.Spotted_Catbird',\n",
       " '019.Gray_Catbird',\n",
       " '020.Yellow_breasted_Chat',\n",
       " '021.Eastern_Towhee',\n",
       " '022.Chuck_will_Widow',\n",
       " '023.Brandt_Cormorant',\n",
       " '024.Red_faced_Cormorant',\n",
       " '025.Pelagic_Cormorant',\n",
       " '026.Bronzed_Cowbird',\n",
       " '027.Shiny_Cowbird',\n",
       " '028.Brown_Creeper',\n",
       " '029.American_Crow',\n",
       " '030.Fish_Crow',\n",
       " '031.Black_billed_Cuckoo',\n",
       " '032.Mangrove_Cuckoo',\n",
       " '033.Yellow_billed_Cuckoo',\n",
       " '034.Gray_crowned_Rosy_Finch',\n",
       " '035.Purple_Finch',\n",
       " '036.Northern_Flicker',\n",
       " '037.Acadian_Flycatcher',\n",
       " '038.Great_Crested_Flycatcher',\n",
       " '039.Least_Flycatcher',\n",
       " '040.Olive_sided_Flycatcher',\n",
       " '041.Scissor_tailed_Flycatcher',\n",
       " '042.Vermilion_Flycatcher',\n",
       " '043.Yellow_bellied_Flycatcher',\n",
       " '044.Frigatebird',\n",
       " '045.Northern_Fulmar',\n",
       " '046.Gadwall',\n",
       " '047.American_Goldfinch',\n",
       " '048.European_Goldfinch',\n",
       " '049.Boat_tailed_Grackle',\n",
       " '050.Eared_Grebe',\n",
       " '051.Horned_Grebe',\n",
       " '052.Pied_billed_Grebe',\n",
       " '053.Western_Grebe',\n",
       " '054.Blue_Grosbeak',\n",
       " '055.Evening_Grosbeak',\n",
       " '056.Pine_Grosbeak',\n",
       " '057.Rose_breasted_Grosbeak',\n",
       " '058.Pigeon_Guillemot',\n",
       " '059.California_Gull',\n",
       " '060.Glaucous_winged_Gull',\n",
       " '061.Heermann_Gull',\n",
       " '062.Herring_Gull',\n",
       " '063.Ivory_Gull',\n",
       " '064.Ring_billed_Gull',\n",
       " '065.Slaty_backed_Gull',\n",
       " '066.Western_Gull',\n",
       " '067.Anna_Hummingbird',\n",
       " '068.Ruby_throated_Hummingbird',\n",
       " '069.Rufous_Hummingbird',\n",
       " '070.Green_Violetear',\n",
       " '071.Long_tailed_Jaeger',\n",
       " '072.Pomarine_Jaeger',\n",
       " '073.Blue_Jay',\n",
       " '074.Florida_Jay',\n",
       " '075.Green_Jay',\n",
       " '076.Dark_eyed_Junco',\n",
       " '077.Tropical_Kingbird',\n",
       " '078.Gray_Kingbird',\n",
       " '079.Belted_Kingfisher',\n",
       " '080.Green_Kingfisher',\n",
       " '081.Pied_Kingfisher',\n",
       " '082.Ringed_Kingfisher',\n",
       " '083.White_breasted_Kingfisher',\n",
       " '084.Red_legged_Kittiwake',\n",
       " '085.Horned_Lark',\n",
       " '086.Pacific_Loon',\n",
       " '087.Mallard',\n",
       " '088.Western_Meadowlark',\n",
       " '089.Hooded_Merganser',\n",
       " '090.Red_breasted_Merganser',\n",
       " '091.Mockingbird',\n",
       " '092.Nighthawk',\n",
       " '093.Clark_Nutcracker',\n",
       " '094.White_breasted_Nuthatch',\n",
       " '095.Baltimore_Oriole',\n",
       " '096.Hooded_Oriole',\n",
       " '097.Orchard_Oriole',\n",
       " '098.Scott_Oriole',\n",
       " '099.Ovenbird',\n",
       " '100.Brown_Pelican',\n",
       " '101.White_Pelican',\n",
       " '102.Western_Wood_Pewee',\n",
       " '103.Sayornis',\n",
       " '104.American_Pipit',\n",
       " '105.Whip_poor_Will',\n",
       " '106.Horned_Puffin',\n",
       " '107.Common_Raven',\n",
       " '108.White_necked_Raven',\n",
       " '109.American_Redstart',\n",
       " '110.Geococcyx',\n",
       " '111.Loggerhead_Shrike',\n",
       " '112.Great_Grey_Shrike',\n",
       " '113.Baird_Sparrow',\n",
       " '114.Black_throated_Sparrow',\n",
       " '115.Brewer_Sparrow',\n",
       " '116.Chipping_Sparrow',\n",
       " '117.Clay_colored_Sparrow',\n",
       " '118.House_Sparrow',\n",
       " '119.Field_Sparrow',\n",
       " '120.Fox_Sparrow',\n",
       " '121.Grasshopper_Sparrow',\n",
       " '122.Harris_Sparrow',\n",
       " '123.Henslow_Sparrow',\n",
       " '124.Le_Conte_Sparrow',\n",
       " '125.Lincoln_Sparrow',\n",
       " '126.Nelson_Sharp_tailed_Sparrow',\n",
       " '127.Savannah_Sparrow',\n",
       " '128.Seaside_Sparrow',\n",
       " '129.Song_Sparrow',\n",
       " '130.Tree_Sparrow',\n",
       " '131.Vesper_Sparrow',\n",
       " '132.White_crowned_Sparrow',\n",
       " '133.White_throated_Sparrow',\n",
       " '134.Cape_Glossy_Starling',\n",
       " '135.Bank_Swallow',\n",
       " '136.Barn_Swallow',\n",
       " '137.Cliff_Swallow',\n",
       " '138.Tree_Swallow',\n",
       " '139.Scarlet_Tanager',\n",
       " '140.Summer_Tanager',\n",
       " '141.Artic_Tern',\n",
       " '142.Black_Tern',\n",
       " '143.Caspian_Tern',\n",
       " '144.Common_Tern',\n",
       " '145.Elegant_Tern',\n",
       " '146.Forsters_Tern',\n",
       " '147.Least_Tern',\n",
       " '148.Green_tailed_Towhee',\n",
       " '149.Brown_Thrasher',\n",
       " '150.Sage_Thrasher',\n",
       " '151.Black_capped_Vireo',\n",
       " '152.Blue_headed_Vireo',\n",
       " '153.Philadelphia_Vireo',\n",
       " '154.Red_eyed_Vireo',\n",
       " '155.Warbling_Vireo',\n",
       " '156.White_eyed_Vireo',\n",
       " '157.Yellow_throated_Vireo',\n",
       " '158.Bay_breasted_Warbler',\n",
       " '159.Black_and_white_Warbler',\n",
       " '160.Black_throated_Blue_Warbler',\n",
       " '161.Blue_winged_Warbler',\n",
       " '162.Canada_Warbler',\n",
       " '163.Cape_May_Warbler',\n",
       " '164.Cerulean_Warbler',\n",
       " '165.Chestnut_sided_Warbler',\n",
       " '166.Golden_winged_Warbler',\n",
       " '167.Hooded_Warbler',\n",
       " '168.Kentucky_Warbler',\n",
       " '169.Magnolia_Warbler',\n",
       " '170.Mourning_Warbler',\n",
       " '171.Myrtle_Warbler',\n",
       " '172.Nashville_Warbler',\n",
       " '173.Orange_crowned_Warbler',\n",
       " '174.Palm_Warbler',\n",
       " '175.Pine_Warbler',\n",
       " '176.Prairie_Warbler',\n",
       " '177.Prothonotary_Warbler',\n",
       " '178.Swainson_Warbler',\n",
       " '179.Tennessee_Warbler',\n",
       " '180.Wilson_Warbler',\n",
       " '181.Worm_eating_Warbler',\n",
       " '182.Yellow_Warbler',\n",
       " '183.Northern_Waterthrush',\n",
       " '184.Louisiana_Waterthrush',\n",
       " '185.Bohemian_Waxwing',\n",
       " '186.Cedar_Waxwing',\n",
       " '187.American_Three_toed_Woodpecker',\n",
       " '188.Pileated_Woodpecker',\n",
       " '189.Red_bellied_Woodpecker',\n",
       " '190.Red_cockaded_Woodpecker',\n",
       " '191.Red_headed_Woodpecker',\n",
       " '192.Downy_Woodpecker',\n",
       " '193.Bewick_Wren',\n",
       " '194.Cactus_Wren',\n",
       " '195.Carolina_Wren',\n",
       " '196.House_Wren',\n",
       " '197.Marsh_Wren',\n",
       " '198.Rock_Wren',\n",
       " '199.Winter_Wren',\n",
       " '200.Common_Yellowthroat']"
      ]
     },
     "execution_count": 45,
     "metadata": {},
     "output_type": "execute_result"
    }
   ],
   "source": [
    "full_dataset.classes"
   ]
  },
  {
   "cell_type": "markdown",
   "id": "153108e5",
   "metadata": {},
   "source": [
    "### Применяем трансформации"
   ]
  },
  {
   "cell_type": "code",
   "execution_count": 28,
   "id": "3d5546aa",
   "metadata": {},
   "outputs": [],
   "source": [
    "train_dataset.dataset.transform = data_transforms['train']\n",
    "val_dataset.dataset.transform = data_transforms['val']"
   ]
  },
  {
   "cell_type": "markdown",
   "id": "6e73426e",
   "metadata": {},
   "source": [
    "### DataLoader"
   ]
  },
  {
   "cell_type": "code",
   "execution_count": null,
   "id": "a7efba35",
   "metadata": {},
   "outputs": [
    {
     "name": "stdout",
     "output_type": "stream",
     "text": [
      "Number of classes: 200\n",
      "Training set size: 9430\n",
      "Validation set size: 2358\n"
     ]
    }
   ],
   "source": [
    "dataloaders = {\n",
    "    'train': torch.utils.data.DataLoader(\n",
    "        train_dataset, batch_size=batch_size,\n",
    "        shuffle=True, num_workers=num_workers,\n",
    "        pin_memory=True if torch.cuda.is_available() else False\n",
    "    ),\n",
    "    'val': torch.utils.data.DataLoader(\n",
    "        val_dataset, batch_size=batch_size,\n",
    "        shuffle=False, num_workers=num_workers,\n",
    "        pin_memory=True if torch.cuda.is_available() else False\n",
    "    )\n",
    "}\n",
    "\n",
    "dataset_sizes = {\n",
    "    'train': len(train_dataset),\n",
    "    'val': len(val_dataset)\n",
    "}\n",
    "\n",
    "class_names = full_dataset.classes\n",
    "num_classes = len(class_names)\n",
    "print(f\"Number of classes: {num_classes}\")\n",
    "print(f\"Training set size: {dataset_sizes['train']}\")\n",
    "print(f\"Validaфункция обученияtion set size: {dataset_sizes['val']}\")"
   ]
  },
  {
   "cell_type": "code",
   "execution_count": 44,
   "id": "21a6a52f",
   "metadata": {},
   "outputs": [
    {
     "name": "stdout",
     "output_type": "stream",
     "text": [
      "Number of classes: 200\n",
      "Training set size: 9430\n",
      "Validation set size: 2358\n"
     ]
    }
   ],
   "source": [
    "import json\n",
    "with open('class_names.json', 'w') as f: json.dump(class_names, f) \n",
    "print(f\"Number of classes: {num_classes}\") \n",
    "print(f\"Training set size: {dataset_sizes['train']}\") \n",
    "print(f\"Validation set size: {dataset_sizes['val']}\")"
   ]
  },
  {
   "cell_type": "markdown",
   "id": "e6335dcd",
   "metadata": {},
   "source": [
    "### функция обучения"
   ]
  },
  {
   "cell_type": "code",
   "execution_count": null,
   "id": "0d0b4143",
   "metadata": {},
   "outputs": [],
   "source": [
    "def train_model_efficient(model, criterion, optimizer, scheduler, num_epochs=12):\n",
    "    since = time.time()\n",
    "    \n",
    "    best_acc = 0.0\n",
    "    best_model_wts = copy.deepcopy(model.state_dict())\n",
    "    \n",
    "    for epoch in range(num_epochs):\n",
    "        print(f'Epoch {epoch}/{num_epochs-1}')\n",
    "        print('-' * 10)\n",
    "        \n",
    "        for phase in ['train', 'val']:\n",
    "            if phase == 'train':\n",
    "                model.train()\n",
    "            else:\n",
    "                model.eval()\n",
    "            \n",
    "            running_loss = 0.0\n",
    "            running_corrects = 0\n",
    "            \n",
    "            for inputs, labels in dataloaders[phase]:\n",
    "                inputs = inputs.to(device)\n",
    "                labels = labels.to(device)\n",
    "                \n",
    "                optimizer.zero_grad()\n",
    "                \n",
    "                with torch.set_grad_enabled(phase == 'train'):\n",
    "                    outputs = model(inputs)\n",
    "                    _, preds = torch.max(outputs, 1)\n",
    "                    loss = criterion(outputs, labels)\n",
    "                    \n",
    "                    if phase == 'train':\n",
    "                        loss.backward()\n",
    "                        optimizer.step()\n",
    "                \n",
    "                running_loss += loss.item() * inputs.size(0)\n",
    "                running_corrects += torch.sum(preds == labels.data)\n",
    "            \n",
    "            if phase == 'train':\n",
    "                scheduler.step()\n",
    "            \n",
    "            epoch_loss = running_loss / dataset_sizes[phase]\n",
    "            epoch_acc = running_corrects.double() / dataset_sizes[phase]\n",
    "            \n",
    "            print(f'{phase} Loss: {epoch_loss:.4f} Acc: {epoch_acc:.4f}')\n",
    "            \n",
    "            if phase == 'val' and epoch_acc > best_acc:\n",
    "                best_acc = epoch_acc\n",
    "                best_model_wts = copy.deepcopy(model.state_dict())\n",
    "        \n",
    "        print()\n",
    "    \n",
    "    time_elapsed = time.time() - since\n",
    "    print(f'Training complete in {time_elapsed//60:.0f}m {time_elapsed%60:.0f}s')\n",
    "    print(f'Best val Acc: {best_acc:.4f}')\n",
    "    \n",
    "    model.load_state_dict(best_model_wts)\n",
    "    return model"
   ]
  },
  {
   "cell_type": "markdown",
   "id": "d32e0267",
   "metadata": {},
   "source": [
    "### Используем EfficientNet-B0 "
   ]
  },
  {
   "cell_type": "code",
   "execution_count": 33,
   "id": "5bac9730",
   "metadata": {},
   "outputs": [
    {
     "name": "stderr",
     "output_type": "stream",
     "text": [
      "/home/sky/miniforge3/lib/python3.12/site-packages/torchvision/models/_utils.py:208: UserWarning: The parameter 'pretrained' is deprecated since 0.13 and may be removed in the future, please use 'weights' instead.\n",
      "  warnings.warn(\n",
      "/home/sky/miniforge3/lib/python3.12/site-packages/torchvision/models/_utils.py:223: UserWarning: Arguments other than a weight enum or `None` for 'weights' are deprecated since 0.13 and may be removed in the future. The current behavior is equivalent to passing `weights=EfficientNet_B0_Weights.IMAGENET1K_V1`. You can also use `weights=EfficientNet_B0_Weights.DEFAULT` to get the most up-to-date weights.\n",
      "  warnings.warn(msg)\n"
     ]
    },
    {
     "name": "stdout",
     "output_type": "stream",
     "text": [
      "Downloading: \"https://download.pytorch.org/models/efficientnet_b0_rwightman-7f5810bc.pth\" to /home/sky/.cache/torch/hub/checkpoints/efficientnet_b0_rwightman-7f5810bc.pth\n"
     ]
    },
    {
     "name": "stderr",
     "output_type": "stream",
     "text": [
      "100%|██████████| 20.5M/20.5M [00:02<00:00, 9.68MB/s]\n"
     ]
    }
   ],
   "source": [
    "model_ft = models.efficientnet_b0(pretrained=True)"
   ]
  },
  {
   "cell_type": "markdown",
   "id": "a08d6947",
   "metadata": {},
   "source": [
    "### Модифицируем последний слой"
   ]
  },
  {
   "cell_type": "code",
   "execution_count": 34,
   "id": "f4e78ce1",
   "metadata": {},
   "outputs": [],
   "source": [
    "num_ftrs = model_ft.classifier[1].in_features\n",
    "model_ft.classifier[1] = nn.Linear(num_ftrs, num_classes)\n",
    "model_ft = model_ft.to(device)\n",
    "\n",
    "criterion = nn.CrossEntropyLoss()"
   ]
  },
  {
   "cell_type": "markdown",
   "id": "b0f7cf6c",
   "metadata": {},
   "source": [
    "### Оптимизатор адам"
   ]
  },
  {
   "cell_type": "code",
   "execution_count": 35,
   "id": "a7fe6015",
   "metadata": {},
   "outputs": [],
   "source": [
    "optimizer_ft = optim.AdamW(model_ft.parameters(), lr=0.001, weight_decay=0.01)"
   ]
  },
  {
   "cell_type": "markdown",
   "id": "20b1b440",
   "metadata": {},
   "source": [
    "### Планировщик с warmup"
   ]
  },
  {
   "cell_type": "code",
   "execution_count": 36,
   "id": "41761196",
   "metadata": {},
   "outputs": [],
   "source": [
    "scheduler = lr_scheduler.OneCycleLR(\n",
    "    optimizer_ft, \n",
    "    max_lr=0.01,\n",
    "    steps_per_epoch=len(dataloaders['train']),\n",
    "    epochs=num_epochs,\n",
    "    anneal_strategy='linear'\n",
    ")"
   ]
  },
  {
   "cell_type": "markdown",
   "id": "7aba2a44",
   "metadata": {},
   "source": [
    "### Обучение модели"
   ]
  },
  {
   "cell_type": "code",
   "execution_count": 37,
   "id": "1f86c99f",
   "metadata": {},
   "outputs": [
    {
     "name": "stdout",
     "output_type": "stream",
     "text": [
      "Starting training with full dataset...\n",
      "Epoch 0/9\n",
      "----------\n",
      "train Loss: 3.1062 Acc: 0.3409\n",
      "val Loss: 1.2125 Acc: 0.6713\n",
      "\n",
      "Epoch 1/9\n",
      "----------\n",
      "train Loss: 1.0003 Acc: 0.7420\n",
      "val Loss: 0.7835 Acc: 0.7841\n",
      "\n",
      "Epoch 2/9\n",
      "----------\n",
      "train Loss: 0.5104 Acc: 0.8668\n",
      "val Loss: 0.7326 Acc: 0.7880\n",
      "\n",
      "Epoch 3/9\n",
      "----------\n",
      "train Loss: 0.3119 Acc: 0.9165\n",
      "val Loss: 0.7419 Acc: 0.7939\n",
      "\n",
      "Epoch 4/9\n",
      "----------\n",
      "train Loss: 0.1926 Acc: 0.9496\n",
      "val Loss: 0.7527 Acc: 0.8003\n",
      "\n",
      "Epoch 5/9\n",
      "----------\n",
      "train Loss: 0.1504 Acc: 0.9611\n",
      "val Loss: 0.8435 Acc: 0.7765\n",
      "\n",
      "Epoch 6/9\n",
      "----------\n",
      "train Loss: 0.1452 Acc: 0.9616\n",
      "val Loss: 0.9498 Acc: 0.7663\n",
      "\n",
      "Epoch 7/9\n",
      "----------\n",
      "train Loss: 0.1456 Acc: 0.9601\n",
      "val Loss: 0.9193 Acc: 0.7668\n",
      "\n",
      "Epoch 8/9\n",
      "----------\n",
      "train Loss: 0.1096 Acc: 0.9699\n",
      "val Loss: 1.0037 Acc: 0.7663\n",
      "\n",
      "Epoch 9/9\n",
      "----------\n",
      "train Loss: 0.1299 Acc: 0.9648\n",
      "val Loss: 0.9656 Acc: 0.7680\n",
      "\n",
      "Training complete in 76m 1s\n",
      "Best val Acc: 0.8003\n"
     ]
    }
   ],
   "source": [
    "print(\"Starting training with full dataset...\")\n",
    "model_ft = train_model_efficient(model_ft, criterion, optimizer_ft, scheduler, num_epochs)"
   ]
  },
  {
   "cell_type": "markdown",
   "id": "ec186c27",
   "metadata": {},
   "source": [
    "### Сохраняем модель"
   ]
  },
  {
   "cell_type": "code",
   "execution_count": 38,
   "id": "40f867dc",
   "metadata": {},
   "outputs": [
    {
     "name": "stdout",
     "output_type": "stream",
     "text": [
      "Model saved to fast_bird_classifier_mobilenet.pth\n"
     ]
    }
   ],
   "source": [
    "torch.save(model_ft.state_dict(), 'fast_bird_classifier_mobilenet.pth')\n",
    "print(\"Model saved to fast_bird_classifier_mobilenet.pth\")"
   ]
  },
  {
   "cell_type": "markdown",
   "id": "1fbc5a4a",
   "metadata": {},
   "source": [
    "### Функция для предсказания"
   ]
  },
  {
   "cell_type": "code",
   "execution_count": 39,
   "id": "570c5b6d",
   "metadata": {},
   "outputs": [],
   "source": [
    "def predict_image(image_path, model, class_names, transform):\n",
    "    image = Image.open(image_path)\n",
    "    image = transform(image).float()\n",
    "    image = image.unsqueeze(0)  # Add batch dimension\n",
    "    image = image.to(device)\n",
    "    \n",
    "    model.eval()\n",
    "    with torch.no_grad():\n",
    "        output = model(image)\n",
    "        _, predicted = torch.max(output.data, 1)\n",
    "        return class_names[predicted.item()]"
   ]
  }
 ],
 "metadata": {
  "kernelspec": {
   "display_name": "base",
   "language": "python",
   "name": "python3"
  },
  "language_info": {
   "codemirror_mode": {
    "name": "ipython",
    "version": 3
   },
   "file_extension": ".py",
   "mimetype": "text/x-python",
   "name": "python",
   "nbconvert_exporter": "python",
   "pygments_lexer": "ipython3",
   "version": "3.12.10"
  }
 },
 "nbformat": 4,
 "nbformat_minor": 5
}
